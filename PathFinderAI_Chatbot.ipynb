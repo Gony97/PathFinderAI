{
  "nbformat": 4,
  "nbformat_minor": 0,
  "metadata": {
    "colab": {
      "provenance": [],
      "gpuType": "T4"
    },
    "kernelspec": {
      "name": "python3",
      "display_name": "Python 3"
    },
    "language_info": {
      "name": "python"
    },
    "accelerator": "GPU"
  },
  "cells": [
    {
      "cell_type": "code",
      "execution_count": null,
      "metadata": {
        "id": "MV6f7KJvY8Zi"
      },
      "outputs": [],
      "source": [
        "!pip install llamaapi -q\n",
        "\n",
        "%run main.py"
      ]
    },
    {
      "cell_type": "code",
      "source": [],
      "metadata": {
        "id": "8dG8HCUQj9Tk"
      },
      "execution_count": 4,
      "outputs": []
    }
  ]
}